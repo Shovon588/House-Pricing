{
 "cells": [
  {
   "cell_type": "markdown",
   "metadata": {},
   "source": [
    "Used RandomForestRegressor\n",
    "Ignored categorical data.\n",
    "Missing values filled with imputer"
   ]
  },
  {
   "cell_type": "code",
   "execution_count": 56,
   "metadata": {},
   "outputs": [],
   "source": [
    "import pandas as pd\n",
    "import matplotlib.pyplot as plt\n",
    "from sklearn.model_selection import train_test_split\n",
    "from sklearn.metrics import mean_absolute_error\n",
    "from sklearn.ensemble import RandomForestRegressor\n",
    "from sklearn.impute import SimpleImputer\n",
    "\n",
    "pd.options.display.max_columns = None\n",
    "pd.options.display.max_rows = None"
   ]
  },
  {
   "cell_type": "code",
   "execution_count": 65,
   "metadata": {},
   "outputs": [],
   "source": [
    "data = pd.read_csv(\"H:\\\\Hobby\\\\ML Dataset\\\\house_price\\\\train.csv\")\n",
    "test = pd.read_csv(\"H:\\\\Hobby\\\\ML Dataset\\\\house_price\\\\test.csv\")\n",
    "\n",
    "y = data.SalePrice"
   ]
  },
  {
   "cell_type": "code",
   "execution_count": 66,
   "metadata": {},
   "outputs": [],
   "source": [
    "cols = (data.dtypes=='object')\n",
    "cols = list(cols[cols].index)\n",
    "\n",
    "data = data.drop(cols, axis=1)\n",
    "data = data.drop(['SalePrice'], axis=1)\n",
    "test = test.drop(cols, axis=1)"
   ]
  },
  {
   "cell_type": "code",
   "execution_count": 71,
   "metadata": {},
   "outputs": [],
   "source": [
    "imputer = SimpleImputer()\n",
    "\n",
    "temp = test.copy()\n",
    "X = pd.DataFrame(imputer.fit_transform(data))\n",
    "test = pd.DataFrame(imputer.transform(test))\n",
    "\n",
    "test.columns = temp.columns\n",
    "test['Id']=test['Id'].astype('int')"
   ]
  },
  {
   "cell_type": "code",
   "execution_count": 60,
   "metadata": {},
   "outputs": [],
   "source": [
    "xTrain, xVal, yTrain, yVal = train_test_split(X, y)"
   ]
  },
  {
   "cell_type": "code",
   "execution_count": 61,
   "metadata": {},
   "outputs": [
    {
     "name": "stdout",
     "output_type": "stream",
     "text": [
      "17852.699232876712 100\n",
      "17825.440937829295 104\n",
      "17795.8864789447 108\n",
      "17797.91888454012 112\n",
      "17761.70023618328 116\n",
      "17728.921438356167 120\n",
      "17706.572205037563 124\n",
      "17707.63287671233 128\n",
      "17720.389373183894 132\n",
      "17747.84194198227 136\n",
      "17716.067162426614 140\n",
      "17675.78369482496 144\n",
      "17676.767974824135 148\n"
     ]
    }
   ],
   "source": [
    "data = []\n",
    "\n",
    "for x in range(100,150,4):\n",
    "    model = RandomForestRegressor(random_state=0, n_estimators=x)\n",
    "    model.fit(xTrain,yTrain)\n",
    "    preds = model.predict(xVal)\n",
    "    print(mean_absolute_error(yVal, preds), x)"
   ]
  },
  {
   "cell_type": "code",
   "execution_count": 62,
   "metadata": {},
   "outputs": [],
   "source": [
    "final_model = RandomForestRegressor(n_estimators=136, random_state=0)\n",
    "final_model.fit(X,y)\n",
    "y_pred = final_model.predict(test)\n",
    "\n",
    "output = pd.DataFrame({'Id': test.Id,\n",
    "                     'SalePrice': y_pred})\n",
    "\n",
    "output.to_csv('2ndSub.csv', index=False)"
   ]
  }
 ],
 "metadata": {
  "kernelspec": {
   "display_name": "Python 3",
   "language": "python",
   "name": "python3"
  },
  "language_info": {
   "codemirror_mode": {
    "name": "ipython",
    "version": 3
   },
   "file_extension": ".py",
   "mimetype": "text/x-python",
   "name": "python",
   "nbconvert_exporter": "python",
   "pygments_lexer": "ipython3",
   "version": "3.6.8"
  }
 },
 "nbformat": 4,
 "nbformat_minor": 2
}
