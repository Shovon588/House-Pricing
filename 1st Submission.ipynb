{
 "cells": [
  {
   "cell_type": "markdown",
   "metadata": {},
   "source": [
    "RandomForestRegressor.\n",
    "Categorical columns dropped.\n",
    "Missing value columns dropped."
   ]
  },
  {
   "cell_type": "code",
   "execution_count": 11,
   "metadata": {},
   "outputs": [],
   "source": [
    "import pandas as pd\n",
    "import matplotlib.pyplot as plt\n",
    "from sklearn.model_selection import train_test_split\n",
    "from sklearn.metrics import mean_absolute_error\n",
    "from sklearn.ensemble import RandomForestRegressor\n",
    "\n",
    "pd.options.display.max_columns = None\n",
    "pd.options.display.max_rows = None"
   ]
  },
  {
   "cell_type": "code",
   "execution_count": 30,
   "metadata": {},
   "outputs": [],
   "source": [
    "data = pd.read_csv(\"H:\\\\Hobby\\\\ML Dataset\\\\house_price\\\\train.csv\")\n",
    "test = pd.read_csv(\"H:\\\\Hobby\\\\ML Dataset\\\\house_price\\\\test.csv\")\n",
    "\n",
    "y = data.SalePrice"
   ]
  },
  {
   "cell_type": "code",
   "execution_count": 31,
   "metadata": {},
   "outputs": [],
   "source": [
    "cols = (data.dtypes=='object')\n",
    "cols = list(cols[cols].index)\n",
    "\n",
    "data = data.drop(cols, axis=1)\n",
    "data = data.drop(['SalePrice'], axis=1)\n",
    "test = test.drop(cols, axis=1)"
   ]
  },
  {
   "cell_type": "code",
   "execution_count": 32,
   "metadata": {},
   "outputs": [],
   "source": [
    "bad_data = [col for col in data.columns if data[col].isnull().any()]\n",
    "bad_test = [col for col in data.columns if test[col].isnull().any()]\n",
    "\n",
    "bad = set(bad_data) | set(bad_test)\n",
    "\n",
    "X = data.drop(bad, axis=1)\n",
    "test = test.drop(bad, axis=1)"
   ]
  },
  {
   "cell_type": "code",
   "execution_count": 5,
   "metadata": {},
   "outputs": [],
   "source": [
    "xTrain, xVal, yTrain, yVal = train_test_split(X, y)"
   ]
  },
  {
   "cell_type": "code",
   "execution_count": 6,
   "metadata": {},
   "outputs": [
    {
     "name": "stdout",
     "output_type": "stream",
     "text": [
      "19800.75908675799 105\n",
      "19784.469940553117 106\n",
      "19778.55181154782 107\n",
      "19775.60319634703 108\n",
      "19770.710142013322 109\n",
      "19761.643735990034 110\n",
      "19765.378575836112 111\n",
      "19758.745988258317 112\n",
      "19750.752454843012 113\n",
      "19749.074068733476 114\n",
      "19728.61736748064 115\n",
      "19694.96646197449 116\n"
     ]
    }
   ],
   "source": [
    "data = [105,106,107,108,109,110,111,112,113,114,115,116]\n",
    "\n",
    "for x in data:\n",
    "    model = RandomForestRegressor(n_estimators=x, random_state=0)\n",
    "    model.fit(xTrain,yTrain)\n",
    "    preds = model.predict(xVal)\n",
    "    print(mean_absolute_error(yVal, preds), x)"
   ]
  },
  {
   "cell_type": "code",
   "execution_count": 8,
   "metadata": {},
   "outputs": [],
   "source": [
    "final_model = RandomForestRegressor(n_estimators=106, random_state=0)\n",
    "final_model.fit(X,y)\n",
    "y_pred = final_model.predict(test)\n",
    "\n",
    "output = pd.DataFrame({'Id': test.Id,\n",
    "                     'SalePrice': y_pred})\n",
    "\n",
    "output.to_csv('1stSub.csv', index=False)"
   ]
  }
 ],
 "metadata": {
  "kernelspec": {
   "display_name": "Python 3",
   "language": "python",
   "name": "python3"
  },
  "language_info": {
   "codemirror_mode": {
    "name": "ipython",
    "version": 3
   },
   "file_extension": ".py",
   "mimetype": "text/x-python",
   "name": "python",
   "nbconvert_exporter": "python",
   "pygments_lexer": "ipython3",
   "version": "3.6.8"
  }
 },
 "nbformat": 4,
 "nbformat_minor": 2
}
