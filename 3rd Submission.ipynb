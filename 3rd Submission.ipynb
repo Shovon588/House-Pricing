{
 "cells": [
  {
   "cell_type": "markdown",
   "metadata": {},
   "source": [
    "LabelEncoder used for categorical values.\n",
    "SimpleImputer used for missing values.\n",
    "\n",
    "Categorical values that are missing can not be used in LabelEncoder"
   ]
  },
  {
   "cell_type": "code",
   "execution_count": 1,
   "metadata": {},
   "outputs": [],
   "source": [
    "import pandas as pd\n",
    "import matplotlib.pyplot as plt\n",
    "from sklearn.model_selection import train_test_split\n",
    "from sklearn.metrics import mean_absolute_error\n",
    "from sklearn.ensemble import RandomForestRegressor\n",
    "from sklearn.impute import SimpleImputer\n",
    "from sklearn.preprocessing import LabelEncoder\n",
    "\n",
    "pd.options.display.max_columns = None\n",
    "pd.options.display.max_rows = None"
   ]
  },
  {
   "cell_type": "code",
   "execution_count": 2,
   "metadata": {},
   "outputs": [],
   "source": [
    "data = pd.read_csv(\"H:\\\\Hobby\\\\ML Dataset\\\\house_price\\\\train.csv\")\n",
    "test = pd.read_csv(\"H:\\\\Hobby\\\\ML Dataset\\\\house_price\\\\test.csv\")\n",
    "\n",
    "y = data.SalePrice\n",
    "data=data.drop(['SalePrice'],axis=1)"
   ]
  },
  {
   "cell_type": "code",
   "execution_count": 74,
   "metadata": {},
   "outputs": [
    {
     "data": {
      "text/plain": [
       "count      1459\n",
       "unique        4\n",
       "top       SBrkr\n",
       "freq       1337\n",
       "Name: Electrical, dtype: object"
      ]
     },
     "execution_count": 74,
     "metadata": {},
     "output_type": "execute_result"
    }
   ],
   "source": [
    "cols = (data.dtypes=='object')\n",
    "cols = list(cols[cols].index)\n",
    "\n",
    "\n",
    "bad_data = [col for col in cols if data[col].isnull().any()]\n",
    "bad_test = [col for col in cols if test[col].isnull().any()]\n",
    "\n",
    "bad = set(bad_data) | set(bad_test)\n",
    "#Alley\n",
    "\n",
    "data['BsmtCond'] = data['BsmtCond'].fillna('TA')\n",
    "data['BsmtExposure'] = data['BsmtExposure'].fillna('No')\n",
    "\n",
    "test['Electrical'].describe()\n",
    "# data = data.drop(bad, axis=1)\n",
    "# test = test.drop(bad, axis=1)\n",
    "\n",
    "# encoder = LabelEncoder()\n",
    "# for col in cols:\n",
    "#     if col not in bad:\n",
    "#         data[col] = encoder.fit_transform(data[col])\n",
    "#         test[col] = encoder.transform(test[col])"
   ]
  },
  {
   "cell_type": "code",
   "execution_count": 53,
   "metadata": {},
   "outputs": [
    {
     "data": {
      "text/plain": [
       "Unf    430\n",
       "GLQ    418\n",
       "ALQ    220\n",
       "BLQ    148\n",
       "Rec    133\n",
       "LwQ     74\n",
       "Name: BsmtFinType1, dtype: int64"
      ]
     },
     "execution_count": 53,
     "metadata": {},
     "output_type": "execute_result"
    }
   ],
   "source": [
    "data['BsmtFinType1'].value_counts()"
   ]
  },
  {
   "cell_type": "code",
   "execution_count": 60,
   "metadata": {},
   "outputs": [],
   "source": [
    "BsmtFinType_mapping = {'Unf':1, 'GLQ':2, 'ALQ':3, 'BLQ':4, 'Rec':5, 'LwQ':6}\n",
    "data['BsmtFinType1'] = data['BsmtFinType1'].map(BsmtFinType_mapping)\n",
    "test['BsmtFinType1'] = test['BsmtFinType1'].map(BsmtFinType_mapping)\n",
    "data['BsmtFinType2'] = data['BsmtFinType2'].map(BsmtFinType_mapping)\n",
    "test['BsmtFinType2'] = test['BsmtFinType2'].map(BsmtFinType_mapping)"
   ]
  },
  {
   "cell_type": "code",
   "execution_count": 69,
   "metadata": {},
   "outputs": [],
   "source": [
    "BsmtQual_mapping = {'TA':1, 'Gd':2, 'Ex':3, 'Fa':4}\n",
    "data['BsmtQual'] = data['BsmtQual'].map(BsmtQual_mapping)\n",
    "test['BsmtQual'] = test['BsmtQual'].map(BsmtQual_mapping)"
   ]
  },
  {
   "cell_type": "code",
   "execution_count": 143,
   "metadata": {},
   "outputs": [],
   "source": [
    "imputer = SimpleImputer()\n",
    "\n",
    "temp = test.copy()\n",
    "data = pd.DataFrame(imputer.fit_transform(data))\n",
    "test = pd.DataFrame(imputer.transform(test))\n",
    "\n",
    "test.columns = temp.columns\n",
    "test['Id']=test['Id'].astype('int')\n",
    "\n",
    "X=data"
   ]
  },
  {
   "cell_type": "code",
   "execution_count": 144,
   "metadata": {},
   "outputs": [],
   "source": [
    "xTrain, xVal, yTrain, yVal = train_test_split(X, y)"
   ]
  },
  {
   "cell_type": "code",
   "execution_count": 145,
   "metadata": {},
   "outputs": [
    {
     "name": "stdout",
     "output_type": "stream",
     "text": [
      "19867.015381604695 70\n",
      "19892.252420091325 75\n",
      "19792.713184931505 80\n",
      "19806.529089443997 85\n",
      "19763.309619482498 90\n",
      "19826.82281182408 95\n",
      "19778.752246575343 100\n",
      "19732.962504892366 105\n",
      "19747.445230386053 110\n",
      "19700.42592019059 115\n"
     ]
    }
   ],
   "source": [
    "data = []\n",
    "\n",
    "for x in range(70,120,5):\n",
    "    model = RandomForestRegressor(random_state=0, n_estimators=x)\n",
    "    model.fit(xTrain,yTrain)\n",
    "    preds = model.predict(xVal)\n",
    "    print(mean_absolute_error(yVal, preds), x)"
   ]
  },
  {
   "cell_type": "code",
   "execution_count": 146,
   "metadata": {},
   "outputs": [],
   "source": [
    "final_model = RandomForestRegressor(n_estimators=136, random_state=0)\n",
    "final_model.fit(X,y)\n",
    "y_pred = final_model.predict(test)\n",
    "\n",
    "output = pd.DataFrame({'Id': test.Id,\n",
    "                     'SalePrice': y_pred})\n",
    "\n",
    "output.to_csv('3rdSub.csv', index=False)"
   ]
  }
 ],
 "metadata": {
  "kernelspec": {
   "display_name": "Python 3",
   "language": "python",
   "name": "python3"
  },
  "language_info": {
   "codemirror_mode": {
    "name": "ipython",
    "version": 3
   },
   "file_extension": ".py",
   "mimetype": "text/x-python",
   "name": "python",
   "nbconvert_exporter": "python",
   "pygments_lexer": "ipython3",
   "version": "3.6.8"
  }
 },
 "nbformat": 4,
 "nbformat_minor": 2
}
