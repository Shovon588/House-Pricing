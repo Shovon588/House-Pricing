{
 "cells": [
  {
   "cell_type": "code",
   "execution_count": 55,
   "metadata": {},
   "outputs": [],
   "source": [
    "import pandas as pd\n",
    "import matplotlib.pyplot as plt\n",
    "from sklearn.model_selection import train_test_split\n",
    "from sklearn.metrics import mean_absolute_error\n",
    "from sklearn.ensemble import RandomForestRegressor\n",
    "from sklearn.impute import SimpleImputer\n",
    "from sklearn.preprocessing import LabelEncoder\n",
    "\n",
    "pd.options.display.max_columns = None\n",
    "pd.options.display.max_rows = None"
   ]
  },
  {
   "cell_type": "code",
   "execution_count": 56,
   "metadata": {},
   "outputs": [],
   "source": [
    "data = pd.read_csv(\"H:\\\\Hobby\\\\ML Dataset\\\\house_price\\\\train.csv\")\n",
    "test = pd.read_csv(\"H:\\\\Hobby\\\\ML Dataset\\\\house_price\\\\test.csv\")\n",
    "\n",
    "y = data.SalePrice\n",
    "data = data.drop(['SalePrice'], axis=1)"
   ]
  },
  {
   "cell_type": "code",
   "execution_count": 57,
   "metadata": {},
   "outputs": [],
   "source": [
    "cols = (data.dtypes=='object')\n",
    "cols = list(cols[cols].index)\n",
    "\n",
    "\n",
    "bad_data = [col for col in cols if data[col].isnull().any()]\n",
    "bad_test = [col for col in cols if test[col].isnull().any()]\n",
    "\n",
    "bad = set(bad_data) | set(bad_test)\n",
    "#Alley,MiscFeature, PoolQC, Fence"
   ]
  },
  {
   "cell_type": "code",
   "execution_count": 58,
   "metadata": {},
   "outputs": [],
   "source": [
    "data = data.drop(['Alley', 'MiscFeature', 'PoolQC', 'Fence'], axis=1)\n",
    "test = test.drop(['Alley', 'MiscFeature', 'PoolQC', 'Fence'], axis=1)"
   ]
  },
  {
   "cell_type": "code",
   "execution_count": 59,
   "metadata": {},
   "outputs": [],
   "source": [
    "# Fill not available categorical data\n",
    "\n",
    "data['BsmtCond'] = data['BsmtCond'].fillna('TA')\n",
    "test['BsmtCond'] = test['BsmtCond'].fillna('TA')\n",
    "data['BsmtExposure'] = data['BsmtExposure'].fillna('No')\n",
    "test['BsmtExposure'] = test['BsmtExposure'].fillna('No')"
   ]
  },
  {
   "cell_type": "code",
   "execution_count": 62,
   "metadata": {},
   "outputs": [
    {
     "data": {
      "text/plain": [
       "Unf    1256\n",
       "Rec      54\n",
       "LwQ      46\n",
       "BLQ      33\n",
       "ALQ      19\n",
       "GLQ      14\n",
       "Name: BsmtFinType2, dtype: int64"
      ]
     },
     "execution_count": 62,
     "metadata": {},
     "output_type": "execute_result"
    }
   ],
   "source": [
    "data['BsmtFinType2'].value_counts()"
   ]
  },
  {
   "cell_type": "code",
   "execution_count": 63,
   "metadata": {},
   "outputs": [],
   "source": [
    "BsmtFinType1_mapping = {'Unf':1, 'GLQ':0.97, 'ALQ':0.51, 'BLQ':0.34, 'Rec':0.31, 'LwQ':0.17}\n",
    "BsmtFinType2_mapping = {'Unf':0.98, 'GLQ':0.011, 'ALQ':0.015, 'BLQ':0.026, 'Rec':0.04, 'LwQ':0.037}\n",
    "\n",
    "data['BsmtFinType1'] = data['BsmtFinType1'].map(BsmtFinType1_mapping)\n",
    "test['BsmtFinType1'] = test['BsmtFinType1'].map(BsmtFinType1_mapping)\n",
    "data['BsmtFinType2'] = data['BsmtFinType2'].map(BsmtFinType2_mapping)\n",
    "test['BsmtFinType2'] = test['BsmtFinType2'].map(BsmtFinType2_mapping)"
   ]
  },
  {
   "cell_type": "code",
   "execution_count": 64,
   "metadata": {},
   "outputs": [],
   "source": [
    "BsmtQual_mapping = {'TA':1, 'Gd':0.95, 'Ex':0.19, 'Fa':0.05}\n",
    "data['BsmtQual'] = data['BsmtQual'].map(BsmtQual_mapping)\n",
    "test['BsmtQual'] = test['BsmtQual'].map(BsmtQual_mapping)"
   ]
  },
  {
   "cell_type": "code",
   "execution_count": 66,
   "metadata": {},
   "outputs": [],
   "source": [
    "Electrical_mapping = {'SBrkr':1, 'FuseA':0.07, 'FuseF':0.02, 'FuseP':0.003, 'Mix': 0.003}\n",
    "data['Electrical'] = data['Electrical'].map(Electrical_mapping)\n",
    "test['Electrical'] = test['Electrical'].map(Electrical_mapping)"
   ]
  },
  {
   "cell_type": "code",
   "execution_count": 69,
   "metadata": {},
   "outputs": [],
   "source": [
    "Exterior_mapping1 = {'VinylSd':1, 'HdBoard':0.43, 'MetalSd':0.42, 'Wd Sdng':0.39, 'Plywood':0.28,\n",
    "                      'CemntBd':0.12, 'BrkFace':0.097, 'WdShing':0.075, 'Stucco':0.15, 'AsbShng':0.15,\n",
    "                       'Stone':0.15, 'BrkComm':0.15, 'CBlock':0.15, 'ImStucc':0.15, 'AsphShn':0.15}\n",
    "\n",
    "Exterior_mapping2 = {'VinylSd':1, 'HdBoard':0.41, 'MetalSd':0.425, 'Wd Sdng':0.4, 'Plywood':0.21,\n",
    "                      'CemntBd':0.12, 'BrkFace':0.097, 'WdShing':0.15, 'Stucco':0.19, 'AsbShng':0.19,\n",
    "                       'Stone':0.19, 'BrkComm':0.19, 'CBlock':0.19, 'ImStucc':0.19, 'AsphShn':0.19}\n",
    "\n",
    "data['Exterior1st'] = data['Exterior1st'].map(Exterior_mapping1)\n",
    "test['Exterior1st'] = test['Exterior1st'].map(Exterior_mapping1)\n",
    "data['Exterior2nd'] = data['Exterior2nd'].map(Exterior_mapping2)\n",
    "test['Exterior2nd'] = data['Exterior2nd'].map(Exterior_mapping2)"
   ]
  },
  {
   "cell_type": "code",
   "execution_count": 74,
   "metadata": {},
   "outputs": [],
   "source": [
    "FireplaceQu_mapping = {'Gd':1, 'TA':0.82, 'Fa':0.087, 'Ex':0.063, 'Po':0.053}\n",
    "data['FireplaceQu'] = data['FireplaceQu'].map(FireplaceQu_mapping)\n",
    "test['FireplaceQu'] = test['FireplaceQu'].map(FireplaceQu_mapping)"
   ]
  },
  {
   "cell_type": "code",
   "execution_count": 79,
   "metadata": {},
   "outputs": [],
   "source": [
    "Functional_mapping = {'Typ':1, 'Min1':0.023, 'Min2':0.025, 'Mod':0.011, 'Maj1':0.011, 'Maj2':0.005, 'Sev':0.005}\n",
    "data['Functional'] = data['Functional'].map(Functional_mapping)\n",
    "test['Functional'] = test['Functional'].map(Functional_mapping)"
   ]
  },
  {
   "cell_type": "code",
   "execution_count": 81,
   "metadata": {},
   "outputs": [],
   "source": [
    "GarageCond_mapping = {'TA':1, 'Fa':0.026, 'Gd':0.014, 'Po':0.014, 'Ex':0.014}\n",
    "data['GarageCond'] = data['GarageCond'].map(GarageCond_mapping)\n",
    "test['GarageCond'] = test['GarageCond'].map(GarageCond_mapping)"
   ]
  },
  {
   "cell_type": "code",
   "execution_count": 83,
   "metadata": {},
   "outputs": [],
   "source": [
    "GarageFinish_mapping = {'Unf':1, 'RFn':0.7, 'Fin':0.58}\n",
    "data['GarageFinish'] = data['GarageFinish'].map(GarageFinish_mapping)\n",
    "test['GarageFinish'] = test['GarageFinish'].map(GarageFinish_mapping)"
   ]
  },
  {
   "cell_type": "code",
   "execution_count": 85,
   "metadata": {},
   "outputs": [],
   "source": [
    "GarageQual_mapping = {'TA':1, 'Fa':0.04, 'Gd':0.015, 'Po':0.015, 'Ex':0.015}\n",
    "data['GarageQual'] = data['GarageQual'].map(GarageQual_mapping)\n",
    "test['GarageQual'] = test['GarageQual'].map(GarageQual_mapping)"
   ]
  },
  {
   "cell_type": "code",
   "execution_count": 87,
   "metadata": {},
   "outputs": [],
   "source": [
    "GarageType_mapping = {'Attchd':1, 'Detchd':0.44, 'BuiltIn':0.1, 'Basment':0.04, 'CarPort':0.04, '2Types':0.04}\n",
    "data['GarageType'] = data['GarageType'].map(GarageType_mapping)\n",
    "test['GarageType'] = test['GarageType'].map(GarageType_mapping)"
   ]
  },
  {
   "cell_type": "code",
   "execution_count": 89,
   "metadata": {},
   "outputs": [],
   "source": [
    "KitchenQual_mapping = {'TA':1, 'Gd':0.8, 'Ex':0.013, 'Fa':0.05}\n",
    "data['KitchenQual'] = data['KitchenQual'].map(KitchenQual_mapping)\n",
    "test['KitchenQual'] = test['KitchenQual'].map(KitchenQual_mapping)"
   ]
  },
  {
   "cell_type": "code",
   "execution_count": 93,
   "metadata": {},
   "outputs": [],
   "source": [
    "MSZoning_mapping = {'RL':1, 'RM':0.19, 'FV':0.08, 'C (all)':0.08, 'RH':0.08}\n",
    "data['MSZoning'] = data['MSZoning'].map(MSZoning_mapping)\n",
    "test['MSZoning'] = test['MSZoning'].map(MSZoning_mapping)"
   ]
  },
  {
   "cell_type": "code",
   "execution_count": 95,
   "metadata": {},
   "outputs": [],
   "source": [
    "MasVnrType_mapping = {'None':1, 'BrkFace':0.52, 'Stone':0.15, 'BrkCmn':0.017}\n",
    "data['MasVnrType'] = data['MasVnrType'].map(MasVnrType_mapping)\n",
    "test['MasVnrType'] = test['MasVnrType'].map(MasVnrType_mapping)"
   ]
  },
  {
   "cell_type": "code",
   "execution_count": 97,
   "metadata": {},
   "outputs": [],
   "source": [
    "SaleType_mapping = {'WD':1, 'New':0.096, 'COD':0.034, 'ConLD':0.022, 'ConLI':0.022,\n",
    "                    'ConLw':0.022, 'CWD':0.022, 'Oth':0.022, 'Con':0.022}\n",
    "data['SaleType'] = data['SaleType'].map(SaleType_mapping)\n",
    "test['SaleType'] = test['SaleType'].map(SaleType_mapping)"
   ]
  },
  {
   "cell_type": "code",
   "execution_count": 99,
   "metadata": {},
   "outputs": [],
   "source": [
    "Utilities_mapping = {'AllPub':1, 'NoSeWa':1}\n",
    "data['Utilities'] = data['Utilities'].map(Utilities_mapping)\n",
    "test['Utilities'] = test['Utilities'].map(Utilities_mapping)"
   ]
  },
  {
   "cell_type": "code",
   "execution_count": 100,
   "metadata": {},
   "outputs": [],
   "source": [
    "cols = (data.dtypes=='object')\n",
    "cols = list(cols[cols].index)"
   ]
  },
  {
   "cell_type": "code",
   "execution_count": 101,
   "metadata": {},
   "outputs": [],
   "source": [
    "encoder = LabelEncoder()\n",
    "for col in cols:\n",
    "    data[col] = encoder.fit_transform(data[col])\n",
    "    test[col] = encoder.transform(test[col])"
   ]
  },
  {
   "cell_type": "code",
   "execution_count": null,
   "metadata": {},
   "outputs": [],
   "source": []
  },
  {
   "cell_type": "code",
   "execution_count": 102,
   "metadata": {},
   "outputs": [],
   "source": [
    "imputer = SimpleImputer()\n",
    "\n",
    "temp = test.copy()\n",
    "\n",
    "data = pd.DataFrame(imputer.fit_transform(data))\n",
    "test = pd.DataFrame(imputer.transform(test))\n",
    "\n",
    "data.columns = temp.columns\n",
    "test.columns = temp.columns\n",
    "data = data.drop(['Id'], axis=1)\n",
    "test = test.drop(['Id'], axis=1)\n",
    "\n",
    "X=data"
   ]
  },
  {
   "cell_type": "code",
   "execution_count": null,
   "metadata": {},
   "outputs": [],
   "source": []
  },
  {
   "cell_type": "code",
   "execution_count": 103,
   "metadata": {},
   "outputs": [],
   "source": [
    "xTrain, xVal, yTrain, yVal = train_test_split(X, y)"
   ]
  },
  {
   "cell_type": "code",
   "execution_count": null,
   "metadata": {},
   "outputs": [],
   "source": []
  },
  {
   "cell_type": "code",
   "execution_count": 106,
   "metadata": {
    "scrolled": false
   },
   "outputs": [
    {
     "name": "stdout",
     "output_type": "stream",
     "text": [
      "18602.82312328767 75\n",
      "18468.39390410959 80\n",
      "18502.328219178085 85\n",
      "18533.701369863014 90\n",
      "18509.395356885365 95\n",
      "18539.325671232873 100\n",
      "18607.740639269407 105\n",
      "18646.016737235368 110\n",
      "18669.723287671233 115\n",
      "Least Error: 18468.394 at 80\n"
     ]
    }
   ],
   "source": [
    "mini = pow(10,9);optimized=0\n",
    "for x in range(75,120,5):\n",
    "    model = RandomForestRegressor(random_state=0, n_estimators=x)\n",
    "    model.fit(xTrain,yTrain)\n",
    "    preds = model.predict(xVal)\n",
    "    error = mean_absolute_error(yVal, preds)\n",
    "    if error<mini:\n",
    "        mini=error\n",
    "        optimized=x\n",
    "    print(error,x)\n",
    "print('Least Error: %.3f at %d' %(mini,optimized))"
   ]
  },
  {
   "cell_type": "code",
   "execution_count": 107,
   "metadata": {},
   "outputs": [],
   "source": [
    "final_model = RandomForestRegressor(n_estimators=80)\n",
    "final_model.fit(X,y)\n",
    "y_pred = final_model.predict(test)\n",
    "\n",
    "output = pd.DataFrame({'Id': temp.Id,\n",
    "                     'SalePrice': y_pred})\n",
    "\n",
    "output.to_csv('5thSub.csv', index=False)"
   ]
  }
 ],
 "metadata": {
  "kernelspec": {
   "display_name": "Python 3",
   "language": "python",
   "name": "python3"
  },
  "language_info": {
   "codemirror_mode": {
    "name": "ipython",
    "version": 3
   },
   "file_extension": ".py",
   "mimetype": "text/x-python",
   "name": "python",
   "nbconvert_exporter": "python",
   "pygments_lexer": "ipython3",
   "version": "3.8.2"
  }
 },
 "nbformat": 4,
 "nbformat_minor": 2
}
